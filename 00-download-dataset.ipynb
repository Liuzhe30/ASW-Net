{
 "cells": [
  {
   "cell_type": "code",
   "execution_count": 1,
   "metadata": {},
   "outputs": [],
   "source": [
    "import glob\n",
    "import os\n",
    "import shutil\n",
    "import zipfile\n",
    "import requests\n",
    "from config import config_vars"
   ]
  },
  {
   "cell_type": "markdown",
   "metadata": {},
   "source": [
    "# Download zip files from BBBC website"
   ]
  },
  {
   "cell_type": "code",
   "execution_count": 2,
   "metadata": {},
   "outputs": [],
   "source": [
    "images = requests.get('https://data.broadinstitute.org/bbbc/BBBC039/images.zip')\n",
    "masks = requests.get('https://data.broadinstitute.org/bbbc/BBBC039/masks.zip')\n",
    "metadata = requests.get('https://data.broadinstitute.org/bbbc/BBBC039/metadata.zip')"
   ]
  },
  {
   "cell_type": "code",
   "execution_count": 3,
   "metadata": {},
   "outputs": [],
   "source": [
    "assert images.ok\n",
    "assert masks.ok\n",
    "assert metadata.ok"
   ]
  },
  {
   "cell_type": "markdown",
   "metadata": {},
   "source": [
    "# Extract images"
   ]
  },
  {
   "cell_type": "code",
   "execution_count": 4,
   "metadata": {},
   "outputs": [],
   "source": [
    "images_zip = os.path.join(config_vars['raw_images_dir'], 'images.zip')\n",
    "os.makedirs(config_vars['raw_images_dir'], exist_ok=True)\n",
    "with open(images_zip, 'wb') as f:\n",
    "    f.write(images.content)\n",
    "    \n",
    "zip_ref = zipfile.ZipFile(images_zip, 'r')\n",
    "for file in zip_ref.namelist():\n",
    "    if file.startswith('images/'):\n",
    "        zip_ref.extract(file, config_vars['raw_images_dir'])\n",
    "\n",
    "zip_ref.close()\n",
    "os.remove(images_zip)\n",
    "\n",
    "for file in glob.glob(os.path.join(config_vars['raw_images_dir'], 'images/*')):\n",
    "    shutil.move(file, config_vars['raw_images_dir'])\n",
    "\n",
    "shutil.rmtree(os.path.join(config_vars['raw_images_dir'], 'images'))"
   ]
  },
  {
   "cell_type": "markdown",
   "metadata": {},
   "source": [
    "# Extract annotations"
   ]
  },
  {
   "cell_type": "code",
   "execution_count": 5,
   "metadata": {},
   "outputs": [],
   "source": [
    "masks_zip = os.path.join(config_vars['raw_annotations_dir'], 'masks.zip')\n",
    "os.makedirs(config_vars['raw_annotations_dir'], exist_ok=True)\n",
    "with open(masks_zip, 'wb') as f:\n",
    "    f.write(masks.content)\n",
    "\n",
    "zip_ref = zipfile.ZipFile(masks_zip, 'r')\n",
    "for file in zip_ref.namelist():\n",
    "    if file.startswith('masks/'):\n",
    "        zip_ref.extract(file, config_vars['raw_annotations_dir'])\n",
    "\n",
    "zip_ref.close()\n",
    "os.remove(masks_zip)\n",
    "\n",
    "for file in glob.glob(os.path.join(config_vars['raw_annotations_dir'], 'masks/*')):\n",
    "    shutil.move(file, config_vars['raw_annotations_dir'])\n",
    "shutil.rmtree(os.path.join(config_vars['raw_annotations_dir'], 'masks'))"
   ]
  },
  {
   "cell_type": "markdown",
   "metadata": {},
   "source": [
    "# Extract metadata"
   ]
  },
  {
   "cell_type": "code",
   "execution_count": 6,
   "metadata": {},
   "outputs": [],
   "source": [
    "metadata_zip = os.path.join(config_vars['root_directory'], 'metadata.zip')\n",
    "with open(metadata_zip, 'wb') as f:\n",
    "    f.write(metadata.content)\n",
    "\n",
    "zip_ref = zipfile.ZipFile(metadata_zip, 'r')\n",
    "for file in zip_ref.namelist():\n",
    "    if file.startswith('metadata/'):\n",
    "        zip_ref.extract(file, config_vars['root_directory'])\n",
    "\n",
    "zip_ref.close()\n",
    "os.remove(metadata_zip)\n",
    "\n",
    "for file in glob.glob(os.path.join(config_vars['root_directory'], 'metadata/*')):\n",
    "    shutil.move(file, config_vars['root_directory'])\n",
    "shutil.rmtree(os.path.join(config_vars['root_directory'], 'metadata'))"
   ]
  },
  {
   "cell_type": "code",
   "execution_count": null,
   "metadata": {},
   "outputs": [],
   "source": []
  }
 ],
 "metadata": {
  "kernelspec": {
   "display_name": "Python 3",
   "language": "python",
   "name": "python3"
  },
  "language_info": {
   "codemirror_mode": {
    "name": "ipython",
    "version": 3
   },
   "file_extension": ".py",
   "mimetype": "text/x-python",
   "name": "python",
   "nbconvert_exporter": "python",
   "pygments_lexer": "ipython3",
   "version": "3.6.4"
  }
 },
 "nbformat": 4,
 "nbformat_minor": 2
}
