{
 "cells": [
  {
   "cell_type": "markdown",
   "metadata": {},
   "source": [
    "# Optional Step\n",
    "# Explore elastic deformation augmentations\n",
    "\n",
    "Load an example image with the corresponding annotations and change parameters to determine which configuration makes realistic deformations for your dataset."
   ]
  },
  {
   "cell_type": "code",
   "execution_count": null,
   "metadata": {},
   "outputs": [],
   "source": [
    "%matplotlib inline"
   ]
  },
  {
   "cell_type": "code",
   "execution_count": null,
   "metadata": {},
   "outputs": [],
   "source": [
    "import matplotlib.pyplot as plt\n",
    "import numpy as np\n",
    "import skimage.io\n",
    "\n",
    "import utils.augmentation"
   ]
  },
  {
   "cell_type": "markdown",
   "metadata": {},
   "source": [
    "# Configuration\n",
    "Select one image with the corresponding expected output (boundary labels)"
   ]
  },
  {
   "cell_type": "code",
   "execution_count": null,
   "metadata": {},
   "outputs": [],
   "source": [
    "input_image_filename = \"path/to/image1\"\n",
    "output_image_filename = \"path/to/annotation/of/image1\""
   ]
  },
  {
   "cell_type": "markdown",
   "metadata": {},
   "source": [
    "# Auxiliary visualization function"
   ]
  },
  {
   "cell_type": "code",
   "execution_count": null,
   "metadata": {},
   "outputs": [],
   "source": [
    "def display(im1, im2, p, d, params=None):\n",
    "    fig, ax = plt.subplots(1,2, figsize=(18,12))\n",
    "    ax[0].imshow(im1)\n",
    "    ax[1].imshow(im2)\n",
    "    ax[0].set_title('Points {} Distort {}'.format(p, d))\n",
    "    if params is not None:\n",
    "        ax[0].plot(params[\"tform\"].inverse(params[\"src\"])[:, 0], params[\"tform\"].inverse(params[\"src\"])[:, 1], '.y')\n",
    "        ax[0].axis((0, params[\"out_cols\"], params[\"out_rows\"], 0))\n",
    "        ax[1].plot(params[\"tform\"].inverse(params[\"src\"])[:, 0], params[\"tform\"].inverse(params[\"src\"])[:, 1], '.y')\n",
    "        ax[1].axis((0, params[\"out_cols\"], params[\"out_rows\"], 0))\n",
    "    plt.show()"
   ]
  },
  {
   "cell_type": "markdown",
   "metadata": {},
   "source": [
    "# Show original images"
   ]
  },
  {
   "cell_type": "code",
   "execution_count": null,
   "metadata": {},
   "outputs": [],
   "source": [
    "x = skimage.io.imread(input_image_filename)\n",
    "y = skimage.io.imread(output_image_filename)\n",
    "\n",
    "fig, ax = plt.subplots(1,2, figsize=(18,12))\n",
    "ax[0].imshow(x)\n",
    "ax[1].imshow(y)"
   ]
  },
  {
   "cell_type": "markdown",
   "metadata": {},
   "source": [
    "# Generate example augmented images\n",
    "Change the four parameters below to explore different configurations "
   ]
  },
  {
   "cell_type": "code",
   "execution_count": null,
   "metadata": {
    "scrolled": false
   },
   "outputs": [],
   "source": [
    "points_from = 14\n",
    "points_to = 18\n",
    "distortion_from = 4\n",
    "distortion_to = 6\n",
    "\n",
    "for i in range(points_from, points_to, 2):\n",
    "    for j in range(distortion_from, distortion_to, 1):\n",
    "        out1, out2 = utils.augmentation.deform(x, y, points=i, distort=j)\n",
    "        display(out1, out2, i, j)"
   ]
  },
  {
   "cell_type": "markdown",
   "metadata": {},
   "source": [
    "# Estimate computational cost of augmentations\n",
    "Elastic deformations are not computed online during training. They are pre-computed and stored."
   ]
  },
  {
   "cell_type": "code",
   "execution_count": null,
   "metadata": {},
   "outputs": [],
   "source": [
    "%timeit out1, out2 = utils.augmentation.deform(x, y, points=20, distort=6)"
   ]
  },
  {
   "cell_type": "code",
   "execution_count": null,
   "metadata": {},
   "outputs": [],
   "source": [
    "from config import config_vars\n",
    "import utils.dirtools\n",
    "import imp\n",
    "imp.reload(utils.dirtools)"
   ]
  },
  {
   "cell_type": "code",
   "execution_count": null,
   "metadata": {},
   "outputs": [],
   "source": [
    "utils.dirtools.read_data_partitions(config_vars)"
   ]
  },
  {
   "cell_type": "code",
   "execution_count": null,
   "metadata": {},
   "outputs": [],
   "source": []
  }
 ],
 "metadata": {
  "kernelspec": {
   "display_name": "Python 3",
   "language": "python",
   "name": "python3"
  },
  "language_info": {
   "codemirror_mode": {
    "name": "ipython",
    "version": 3
   },
   "file_extension": ".py",
   "mimetype": "text/x-python",
   "name": "python",
   "nbconvert_exporter": "python",
   "pygments_lexer": "ipython3",
   "version": "3.6.4"
  }
 },
 "nbformat": 4,
 "nbformat_minor": 2
}
